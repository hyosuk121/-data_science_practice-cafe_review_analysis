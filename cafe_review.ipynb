{
 "cells": [
  {
   "cell_type": "markdown",
   "id": "0adf32a9",
   "metadata": {},
   "source": [
    "# Python 데이터 분석\n",
    "---\n",
    "\n",
    "## 미금역 카페 리뷰 감성 분류\n",
    "- <1. 크롤링> : 카카오맵 리뷰 크롤링\n",
    "- <2. 전처리> : TF-IDF를 이용한 핵심어 추출\n",
    "- <3. 분류> : 긍정, 부정 리뷰 분류\n",
    "- <4. 활용> : 중요 키워드 분석"
   ]
  },
  {
   "cell_type": "code",
   "execution_count": 5,
   "id": "5cb497b4",
   "metadata": {},
   "outputs": [],
   "source": [
    "%matplotlib inline\n",
    "\n",
    "import pandas as pd\n",
    "import numpy as np\n",
    "import matplotlib.pyplot as plt\n",
    "import seaborn as sns\n",
    "\n",
    "import warnings\n",
    "warnings.filterwarnings(\"ignore\")"
   ]
  },
  {
   "cell_type": "markdown",
   "id": "879be72b",
   "metadata": {},
   "source": [
    "## <1. 크롤링> : 카카오맵 리뷰 크롤링"
   ]
  },
  {
   "cell_type": "code",
   "execution_count": null,
   "id": "b821328b",
   "metadata": {},
   "outputs": [],
   "source": [
    "#!pip install selenium : 셀레니움 설치\n",
    "# 크롬 드라이버는 크롬 버전에 맞게 설치 "
   ]
  },
  {
   "cell_type": "code",
   "execution_count": 6,
   "id": "7b71f155",
   "metadata": {},
   "outputs": [
    {
     "name": "stdout",
     "output_type": "stream",
     "text": [
      "https://place.map.kakao.com/22401600\n",
      "https://place.map.kakao.com/1860255454\n",
      "https://place.map.kakao.com/23929866\n",
      "https://place.map.kakao.com/1392486623\n",
      "https://place.map.kakao.com/971021614\n",
      "https://place.map.kakao.com/2032866340\n",
      "https://place.map.kakao.com/447617919\n",
      "https://place.map.kakao.com/991653650\n",
      "https://place.map.kakao.com/1600666103\n",
      "https://place.map.kakao.com/808719341\n",
      "https://place.map.kakao.com/24529842\n",
      "https://place.map.kakao.com/13064327\n",
      "https://place.map.kakao.com/715306943\n",
      "https://place.map.kakao.com/297894130\n",
      "https://place.map.kakao.com/1253570061\n"
     ]
    }
   ],
   "source": [
    "from selenium import webdriver\n",
    "from bs4 import BeautifulSoup\n",
    "import re\n",
    "import time\n",
    "\n",
    "#window용 크롬 웹드라이버 실행 경로\n",
    "excutable_pate = 'chromedriver.exe'\n",
    "\n",
    "#크롤링 사이트 주소 정의\n",
    "source_url = \"https://map.kakao.com/\"\n",
    "\n",
    "#크롬 드라이버를 사용 / chromedriver.exe 경로 추가\n",
    "driver=webdriver.Chrome(executable_path='C:/Users/hyoseok/data_science practice/chromedriver_win32/chromedriver.exe')\n",
    "\n",
    "#카카오 지도에 접속\n",
    "driver.get(source_url)\n",
    "\n",
    "#검색창에 검색어를 입력\n",
    "searchbox = driver.find_element_by_xpath(\"//input[@id='search.keyword.query']\")\n",
    "searchbox.send_keys(\"미금역 카페\")\n",
    "\n",
    "#검색버튼을 눌러서 결과를 가져옴\n",
    "searchbutton =driver.find_element_by_xpath(\"//button[@id='search.keyword.submit']\")\n",
    "driver.execute_script(\"arguments[0].click();\", searchbutton)\n",
    "\n",
    "#검색 결과를 가져올 시간을 기다림\n",
    "time.sleep(2)\n",
    "\n",
    "#검색 결과의 페이지 소스를 가져옴\n",
    "html = driver.page_source\n",
    "\n",
    "#BeautifulSoup을 이용하여 html 정보를 파싱\n",
    "soup = BeautifulSoup(html, \"html.parser\")\n",
    "moreviews = soup.find_all(name=\"a\", attrs={\"class\":\"moreview\"})\n",
    "\n",
    "# a태그의 href 속성을 리스트로 추출, 크롤링할 페이지 리스트 생성\n",
    "page_urls = []\n",
    "for moreview in moreviews:\n",
    "    page_url = moreview.get(\"href\")\n",
    "    print(page_url)\n",
    "    page_urls.append(page_url)\n",
    "\n",
    "#크롤링에 사용한 브라우저 종료\n",
    "driver.close()"
   ]
  },
  {
   "cell_type": "markdown",
   "id": "99e3681c",
   "metadata": {},
   "source": [
    "### 미금역 카페 정보 크롤링"
   ]
  },
  {
   "cell_type": "code",
   "execution_count": 47,
   "id": "2854baa2",
   "metadata": {},
   "outputs": [],
   "source": [
    "columns = ['score','review']\n",
    "df = pd.DataFrame(columns=columns)\n",
    "\n",
    "driver = webdriver.Chrome(executable_path = 'C:/Users/hyoseok/data_science practice/chromedriver_win32/chromedriver.exe')\n",
    "for page_url in page_urls:\n",
    "    \n",
    "    #상세보기 페이지에 접속\n",
    "    driver.get(page_url)\n",
    "    time.sleep(2)\n",
    "    \n",
    "    #첫 페이지 리뷰를 크롤링 \n",
    "    html = driver.page_source\n",
    "    soup = BeautifulSoup(html, 'html.parser')\n",
    "    contents_div =soup.find(name=\"div\", attrs={\"class\":\"evaluation_review\"})\n",
    "    \n",
    "    #별점을 가져옴\n",
    "    rates = contents_div.find_all(name=\"em\", attrs={\"class\":\"num_rate\"})\n",
    "    \n",
    "    #리뷰를 가져옴\n",
    "    reviews = contents_div.find_all(name=\"p\", attrs={\"class\":\"txt_comment\"})\n",
    "    \n",
    "    for rate, review in zip(rates, reviews):\n",
    "        row = [rate.text[0], review.find(name=\"span\").text]\n",
    "        series = pd.Series(row, index=df.columns)\n",
    "        df = df.append(series, ignore_index=True)\n",
    "    #2-5페이지의 리뷰를 크롤링\n",
    "    for button_num in range(2,6):\n",
    "        #오류가 나는 경우(리뷰 페이지가 없는 경우), 수행하지 않음\n",
    "        try:\n",
    "            another_reviews = driver.find_element_by_xpath(\"//a[@data-page='\" + str(button_num) + \"']\")\n",
    "            another_reviews.click()\n",
    "            time.sleep(2)\n",
    "            \n",
    "            #페이지 리뷰를 크롤링 \n",
    "            html = driver.page_source\n",
    "            soup = BeautifulSoup(html, 'html.parser')\n",
    "            contents_div = soup.find(name=\"div\",attrs={\"class\":\"evaluation_review\"})\n",
    "            \n",
    "            #별점을 가져옴\n",
    "            rates = contents_div.find_all(name=\"em\", attrs={\"class\":\"num_rate\"})\n",
    "            \n",
    "            #리뷰를 가져옴\n",
    "            reviews = contents_div.find_all(name=\"p\", attrs={\"class\":\"txt_comment\"})\n",
    "            \n",
    "            for rate, review in zip(rates, reviews):\n",
    "                row = [rate.text[0], review.find(name=\"span\").text]\n",
    "                series = pd.Series(row, index=df.columns)\n",
    "                df = df.append(series, ignore_index=True)\n",
    "        except:\n",
    "            break\n",
    "driver.close()"
   ]
  },
  {
   "cell_type": "code",
   "execution_count": 5,
   "id": "baff6288",
   "metadata": {},
   "outputs": [
    {
     "name": "stdout",
     "output_type": "stream",
     "text": [
      "(234, 3)\n"
     ]
    },
    {
     "data": {
      "text/html": [
       "<div>\n",
       "<style scoped>\n",
       "    .dataframe tbody tr th:only-of-type {\n",
       "        vertical-align: middle;\n",
       "    }\n",
       "\n",
       "    .dataframe tbody tr th {\n",
       "        vertical-align: top;\n",
       "    }\n",
       "\n",
       "    .dataframe thead th {\n",
       "        text-align: right;\n",
       "    }\n",
       "</style>\n",
       "<table border=\"1\" class=\"dataframe\">\n",
       "  <thead>\n",
       "    <tr style=\"text-align: right;\">\n",
       "      <th></th>\n",
       "      <th>score</th>\n",
       "      <th>review</th>\n",
       "      <th>y</th>\n",
       "    </tr>\n",
       "  </thead>\n",
       "  <tbody>\n",
       "    <tr>\n",
       "      <th>0</th>\n",
       "      <td>5</td>\n",
       "      <td>드디어 먹어본 두세르, 테이블링 어플 줄서기 (오전 8시 이후 오픈) 가게 오픈 1...</td>\n",
       "      <td>1</td>\n",
       "    </tr>\n",
       "    <tr>\n",
       "      <th>1</th>\n",
       "      <td>5</td>\n",
       "      <td>굳굳 좋아요</td>\n",
       "      <td>1</td>\n",
       "    </tr>\n",
       "    <tr>\n",
       "      <th>2</th>\n",
       "      <td>5</td>\n",
       "      <td>줄서서 먹을 맛 아니라는 사람 어쩌구 저쩌고해서 기분 나쁘다는 사람 으짜고 저짜고해...</td>\n",
       "      <td>1</td>\n",
       "    </tr>\n",
       "    <tr>\n",
       "      <th>3</th>\n",
       "      <td>5</td>\n",
       "      <td>달면서 달지 않은? 은은한 맛이 좋아요 여러가지 먹어봤지만 바닐라빈 좋아하는 저는 ...</td>\n",
       "      <td>1</td>\n",
       "    </tr>\n",
       "    <tr>\n",
       "      <th>4</th>\n",
       "      <td>5</td>\n",
       "      <td></td>\n",
       "      <td>1</td>\n",
       "    </tr>\n",
       "  </tbody>\n",
       "</table>\n",
       "</div>"
      ],
      "text/plain": [
       "  score                                             review  y\n",
       "0     5  드디어 먹어본 두세르, 테이블링 어플 줄서기 (오전 8시 이후 오픈) 가게 오픈 1...  1\n",
       "1     5                                             굳굳 좋아요  1\n",
       "2     5  줄서서 먹을 맛 아니라는 사람 어쩌구 저쩌고해서 기분 나쁘다는 사람 으짜고 저짜고해...  1\n",
       "3     5  달면서 달지 않은? 은은한 맛이 좋아요 여러가지 먹어봤지만 바닐라빈 좋아하는 저는 ...  1\n",
       "4     5                                                     1"
      ]
     },
     "execution_count": 5,
     "metadata": {},
     "output_type": "execute_result"
    }
   ],
   "source": [
    "#4점 이상의 리뷰는 긍정 리뷰, 3점 이하의 리뷰는 부정 리뷰로 평가\n",
    "df['y'] = df['score'].apply(lambda x: 1 if float(x)>3 else 0)\n",
    "print(df.shape)\n",
    "df.head()"
   ]
  },
  {
   "cell_type": "code",
   "execution_count": 6,
   "id": "eea2bfba",
   "metadata": {},
   "outputs": [],
   "source": [
    "df.to_csv(\"review_data.csv\", index=False)\n",
    "#df.to_csv(\"review_data.csv\", index=False, encoding='euc-kr')\n",
    "#encoding= 'euc-kr'로 한글 깨짐 방지 \n",
    "#전처리 단계에서는 한글 깨짐 방지할 필요없음"
   ]
  },
  {
   "cell_type": "markdown",
   "id": "6a0ec6ff",
   "metadata": {},
   "source": [
    "## <2. 전처리> : `TF-IDF`를 이용한 핵심어 추출"
   ]
  },
  {
   "cell_type": "markdown",
   "id": "dd80c4ee",
   "metadata": {},
   "source": [
    "### TF-IDF(Term Frequency - Inverse Document Frequency)란?\n",
    "- TF(단어 빈도)는 특정한 단어가 **문서 내에 얼마나 자주 등장하는지를 나타내는 값**, 이 값이 **높을수록 문서에서 중요**하다고 생각할 수 있다.\n",
    "- 하지만 하나의 문서에서 많이 나오지 않고 **다른 문서에서 자주 등장하며 단어의 중요도는 낮아진다.**\n",
    "- 이를 **DF(문서 빈도)**라고 하며, 이 값의 역수를 **IDF(역문서 빈도)**라고 한다.\n",
    "- TF-IDF는 TF와 IDF를 곱한 값으로 점수가 높은 단어일수록 **다른 문서에는 많지 않고 해당 문서에서 자주 등장하는 단어**를 의미한다."
   ]
  },
  {
   "cell_type": "markdown",
   "id": "aff1f2a8",
   "metadata": {},
   "source": [
    "### [형태소 추출하기]\n",
    "한글 텍스트로 전처리"
   ]
  },
  {
   "cell_type": "code",
   "execution_count": 10,
   "id": "aacf4f4e",
   "metadata": {},
   "outputs": [
    {
     "data": {
      "text/html": [
       "<div>\n",
       "<style scoped>\n",
       "    .dataframe tbody tr th:only-of-type {\n",
       "        vertical-align: middle;\n",
       "    }\n",
       "\n",
       "    .dataframe tbody tr th {\n",
       "        vertical-align: top;\n",
       "    }\n",
       "\n",
       "    .dataframe thead th {\n",
       "        text-align: right;\n",
       "    }\n",
       "</style>\n",
       "<table border=\"1\" class=\"dataframe\">\n",
       "  <thead>\n",
       "    <tr style=\"text-align: right;\">\n",
       "      <th></th>\n",
       "      <th>score</th>\n",
       "      <th>review</th>\n",
       "      <th>y</th>\n",
       "    </tr>\n",
       "  </thead>\n",
       "  <tbody>\n",
       "    <tr>\n",
       "      <th>0</th>\n",
       "      <td>5</td>\n",
       "      <td>드디어 먹어본 두세르, 테이블링 어플 줄서기 (오전 8시 이후 오픈) 가게 오픈 1...</td>\n",
       "      <td>1</td>\n",
       "    </tr>\n",
       "    <tr>\n",
       "      <th>1</th>\n",
       "      <td>5</td>\n",
       "      <td>굳굳 좋아요</td>\n",
       "      <td>1</td>\n",
       "    </tr>\n",
       "    <tr>\n",
       "      <th>2</th>\n",
       "      <td>5</td>\n",
       "      <td>줄서서 먹을 맛 아니라는 사람 어쩌구 저쩌고해서 기분 나쁘다는 사람 으짜고 저짜고해...</td>\n",
       "      <td>1</td>\n",
       "    </tr>\n",
       "    <tr>\n",
       "      <th>3</th>\n",
       "      <td>5</td>\n",
       "      <td>달면서 달지 않은? 은은한 맛이 좋아요 여러가지 먹어봤지만 바닐라빈 좋아하는 저는 ...</td>\n",
       "      <td>1</td>\n",
       "    </tr>\n",
       "    <tr>\n",
       "      <th>4</th>\n",
       "      <td>5</td>\n",
       "      <td>NaN</td>\n",
       "      <td>1</td>\n",
       "    </tr>\n",
       "  </tbody>\n",
       "</table>\n",
       "</div>"
      ],
      "text/plain": [
       "   score                                             review  y\n",
       "0      5  드디어 먹어본 두세르, 테이블링 어플 줄서기 (오전 8시 이후 오픈) 가게 오픈 1...  1\n",
       "1      5                                             굳굳 좋아요  1\n",
       "2      5  줄서서 먹을 맛 아니라는 사람 어쩌구 저쩌고해서 기분 나쁘다는 사람 으짜고 저짜고해...  1\n",
       "3      5  달면서 달지 않은? 은은한 맛이 좋아요 여러가지 먹어봤지만 바닐라빈 좋아하는 저는 ...  1\n",
       "4      5                                                NaN  1"
      ]
     },
     "execution_count": 10,
     "metadata": {},
     "output_type": "execute_result"
    }
   ],
   "source": [
    "df = pd.read_csv(\"review_data.csv\")\n",
    "df.head()"
   ]
  },
  {
   "cell_type": "code",
   "execution_count": 12,
   "id": "fce3e4b7",
   "metadata": {},
   "outputs": [
    {
     "name": "stdout",
     "output_type": "stream",
     "text": [
      "score      int64\n",
      "review    object\n",
      "y          int64\n",
      "dtype: object\n"
     ]
    }
   ],
   "source": [
    "print(df.dtypes)"
   ]
  },
  {
   "cell_type": "code",
   "execution_count": 8,
   "id": "b8b60478",
   "metadata": {},
   "outputs": [],
   "source": [
    "import re\n",
    "\n",
    "# 텍스트 정제 함수 : 한글 이외의 문자는 전부 제거\n",
    "def text_cleaning(text):\n",
    "    # 한글의 정규표현식으로 한글만 추출\n",
    "    #hangul = re.compile('[^ ㄱ-ㅣ가-힣]+')\n",
    "    hangul = re.compile('[^ \\u3131-\\u3163\\uac00-\\ud7a3]+')\n",
    "    result = hangul.sub('', str(text))\n",
    "    return result"
   ]
  },
  {
   "cell_type": "code",
   "execution_count": 12,
   "id": "59776f7e",
   "metadata": {},
   "outputs": [
    {
     "data": {
      "text/html": [
       "<div>\n",
       "<style scoped>\n",
       "    .dataframe tbody tr th:only-of-type {\n",
       "        vertical-align: middle;\n",
       "    }\n",
       "\n",
       "    .dataframe tbody tr th {\n",
       "        vertical-align: top;\n",
       "    }\n",
       "\n",
       "    .dataframe thead th {\n",
       "        text-align: right;\n",
       "    }\n",
       "</style>\n",
       "<table border=\"1\" class=\"dataframe\">\n",
       "  <thead>\n",
       "    <tr style=\"text-align: right;\">\n",
       "      <th></th>\n",
       "      <th>score</th>\n",
       "      <th>y</th>\n",
       "      <th>ko_text</th>\n",
       "    </tr>\n",
       "  </thead>\n",
       "  <tbody>\n",
       "    <tr>\n",
       "      <th>0</th>\n",
       "      <td>5</td>\n",
       "      <td>1</td>\n",
       "      <td>드디어 먹어본 두세르 테이블링 어플 줄서기 오전 시 이후 오픈 가게 오픈 시  두번...</td>\n",
       "    </tr>\n",
       "    <tr>\n",
       "      <th>1</th>\n",
       "      <td>5</td>\n",
       "      <td>1</td>\n",
       "      <td>굳굳 좋아요</td>\n",
       "    </tr>\n",
       "    <tr>\n",
       "      <th>2</th>\n",
       "      <td>5</td>\n",
       "      <td>1</td>\n",
       "      <td>줄서서 먹을 맛 아니라는 사람 어쩌구 저쩌고해서 기분 나쁘다는 사람 으짜고 저짜고해...</td>\n",
       "    </tr>\n",
       "    <tr>\n",
       "      <th>3</th>\n",
       "      <td>5</td>\n",
       "      <td>1</td>\n",
       "      <td>달면서 달지 않은 은은한 맛이 좋아요 여러가지 먹어봤지만 바닐라빈 좋아하는 저는  ...</td>\n",
       "    </tr>\n",
       "    <tr>\n",
       "      <th>5</th>\n",
       "      <td>3</td>\n",
       "      <td>0</td>\n",
       "      <td>좋아용</td>\n",
       "    </tr>\n",
       "  </tbody>\n",
       "</table>\n",
       "</div>"
      ],
      "text/plain": [
       "   score  y                                            ko_text\n",
       "0      5  1  드디어 먹어본 두세르 테이블링 어플 줄서기 오전 시 이후 오픈 가게 오픈 시  두번...\n",
       "1      5  1                                             굳굳 좋아요\n",
       "2      5  1  줄서서 먹을 맛 아니라는 사람 어쩌구 저쩌고해서 기분 나쁘다는 사람 으짜고 저짜고해...\n",
       "3      5  1  달면서 달지 않은 은은한 맛이 좋아요 여러가지 먹어봤지만 바닐라빈 좋아하는 저는  ...\n",
       "5      3  0                                                좋아용"
      ]
     },
     "execution_count": 12,
     "metadata": {},
     "output_type": "execute_result"
    }
   ],
   "source": [
    "# 함수를 적용하여 리뷰에서 한글만 추출\n",
    "df = pd.read_csv(\"review_data.csv\")\n",
    "df['ko_text'] = df['review'].apply(lambda x: text_cleaning(x))\n",
    "del df['review']\n",
    "\n",
    "# 한 글자 이상의 텍스트를 가지고 있는 데이터만 추출\n",
    "df = df[df['ko_text'].str.len() > 0]\n",
    "df.head()"
   ]
  },
  {
   "cell_type": "markdown",
   "id": "aad56c9e",
   "metadata": {},
   "source": [
    "- Konlpy는 형태소 분석 라이브러리 중 **한국어 정보처리를 위한 python 패키지**이다."
   ]
  },
  {
   "cell_type": "code",
   "execution_count": 19,
   "id": "ae05bb6b",
   "metadata": {},
   "outputs": [],
   "source": [
    "#!pip install konlpy"
   ]
  },
  {
   "cell_type": "code",
   "execution_count": 13,
   "id": "6c72034a",
   "metadata": {},
   "outputs": [
    {
     "name": "stdout",
     "output_type": "stream",
     "text": [
      "['드디어/Adverb', '먹어/Verb', '본/Verb', '두/Determiner', '세르/Noun', '테이블/Noun', '링/Noun', '어플/Noun', '줄/Noun', '서기/Noun', '오전/Noun', '시/Noun', '이후/Noun', '오픈/Noun', '가게/Noun', '오픈/Noun', '시/Noun', '두/Determiner', '번/Noun', '와/Verb', '야하는/Adjective', '번거로/Adjective', '움/Noun', '에도/Josa', '먹어/Verb', '볼/Noun', '만/Suffix', '한/Josa', '가치/Noun', '가/Josa', '있네요/Adjective']\n"
     ]
    }
   ],
   "source": [
    "from konlpy.tag import Okt\n",
    "\n",
    "#konlpy 라이브러리로 텍스트 데이터에서 형태소를 추출\n",
    "def get_pos(x):\n",
    "    tagger = Okt()\n",
    "    pos = tagger.pos(x)\n",
    "    pos = ['{}/{}'.format(word,tag)for word, tag in pos]\n",
    "    return pos\n",
    "\n",
    "#형태소 추출 동작을 테스트\n",
    "result = get_pos(df['ko_text'].values[0])\n",
    "print(result)"
   ]
  },
  {
   "cell_type": "markdown",
   "id": "691a5293",
   "metadata": {},
   "source": [
    "### [ 분류 모델의 학습 데이터로 변환]\n",
    "corpus index 생성"
   ]
  },
  {
   "cell_type": "markdown",
   "id": "3822f55c",
   "metadata": {},
   "source": [
    "- Sklearn(사이킷런)이란? \n",
    "---\n",
    "사이킷런은 파이썬을 대표하는 오픈소스의 무료 머신러닝 라이브러리이다."
   ]
  },
  {
   "cell_type": "code",
   "execution_count": 14,
   "id": "2a02acd7",
   "metadata": {},
   "outputs": [],
   "source": [
    "from sklearn.feature_extraction.text import CountVectorizer\n",
    "\n",
    "#형태소를 벡터 형태의 학습 데이터셋(X 데이터)으로 변환\n",
    "index_vectorizer = CountVectorizer(tokenizer = lambda x: get_pos(x))\n",
    "X= index_vectorizer.fit_transform(df['ko_text'].tolist())"
   ]
  },
  {
   "cell_type": "code",
   "execution_count": 15,
   "id": "9bba68a5",
   "metadata": {},
   "outputs": [
    {
     "data": {
      "text/plain": [
       "(204, 1713)"
      ]
     },
     "execution_count": 15,
     "metadata": {},
     "output_type": "execute_result"
    }
   ],
   "source": [
    "X.shape"
   ]
  },
  {
   "cell_type": "code",
   "execution_count": 16,
   "id": "04d04b66",
   "metadata": {},
   "outputs": [
    {
     "name": "stdout",
     "output_type": "stream",
     "text": [
      "{'드디어/Adverb': 423, '먹어/Verb': 583, '본/Verb': 720, '두/Determiner': 414, '세르/Noun': 847, '테이블/Noun': ..\n"
     ]
    }
   ],
   "source": [
    "print(str(index_vectorizer.vocabulary_)[:100]+\"..\")"
   ]
  },
  {
   "cell_type": "code",
   "execution_count": 29,
   "id": "86d1947a",
   "metadata": {},
   "outputs": [
    {
     "name": "stdout",
     "output_type": "stream",
     "text": [
      "드디어 먹어본 두세르 테이블링 어플 줄서기 오전 시 이후 오픈 가게 오픈 시  두번 와야하는 번거로움에도 먹어볼만한 가치가 있네요\n",
      "  (0, 423)\t1\n",
      "  (0, 583)\t2\n",
      "  (0, 720)\t1\n",
      "  (0, 414)\t2\n",
      "  (0, 847)\t1\n",
      "  (0, 1560)\t1\n",
      "  (0, 491)\t1\n",
      "  (0, 1041)\t1\n",
      "  (0, 1407)\t1\n",
      "  (0, 832)\t1\n",
      "  (0, 1111)\t1\n",
      "  (0, 879)\t2\n",
      "  (0, 1232)\t1\n",
      "  (0, 1114)\t2\n",
      "  (0, 20)\t1\n",
      "  (0, 693)\t1\n",
      "  (0, 1124)\t1\n",
      "  (0, 1026)\t1\n",
      "  (0, 695)\t1\n",
      "  (0, 1159)\t1\n",
      "  (0, 1068)\t1\n",
      "  (0, 726)\t1\n",
      "  (0, 510)\t1\n",
      "  (0, 1652)\t1\n",
      "  (0, 50)\t1\n",
      "  (0, 18)\t1\n",
      "  (0, 1267)\t1\n"
     ]
    }
   ],
   "source": [
    "print(df['ko_text'].values[0])\n",
    "print(X[0])"
   ]
  },
  {
   "cell_type": "markdown",
   "id": "bc464f85",
   "metadata": {},
   "source": [
    "### [TF-IDF로 변환]"
   ]
  },
  {
   "cell_type": "code",
   "execution_count": 17,
   "id": "52571a6e",
   "metadata": {},
   "outputs": [],
   "source": [
    "from sklearn.feature_extraction.text import TfidfTransformer\n",
    "\n",
    "#TF-IDF 방법으로, 형태소를 벡터 형태의 학습 데이터셋(X 데이터)으로 변환\n",
    "tfidf_vectorizer = TfidfTransformer()\n",
    "X = tfidf_vectorizer.fit_transform(X)"
   ]
  },
  {
   "cell_type": "code",
   "execution_count": 18,
   "id": "7ec556c2",
   "metadata": {},
   "outputs": [
    {
     "name": "stdout",
     "output_type": "stream",
     "text": [
      "(204, 1713)\n",
      "  (0, 1652)\t0.1515512817134298\n",
      "  (0, 1560)\t0.12926513818081206\n",
      "  (0, 1407)\t0.1515512817134298\n",
      "  (0, 1267)\t0.18101196097588948\n",
      "  (0, 1232)\t0.1679754027236188\n",
      "  (0, 1159)\t0.1515512817134298\n",
      "  (0, 1124)\t0.1679754027236188\n",
      "  (0, 1114)\t0.3174516348865435\n",
      "  (0, 1111)\t0.1679754027236188\n",
      "  (0, 1068)\t0.14568925919100104\n",
      "  (0, 1041)\t0.18101196097588948\n",
      "  (0, 1026)\t0.18101196097588948\n",
      "  (0, 879)\t0.36202392195177896\n",
      "  (0, 847)\t0.18101196097588948\n",
      "  (0, 832)\t0.18101196097588948\n",
      "  (0, 726)\t0.1515512817134298\n",
      "  (0, 720)\t0.1679754027236188\n",
      "  (0, 695)\t0.18101196097588948\n",
      "  (0, 693)\t0.14073298976853058\n",
      "  (0, 583)\t0.3031025634268596\n",
      "  (0, 510)\t0.1679754027236188\n",
      "  (0, 491)\t0.1679754027236188\n",
      "  (0, 423)\t0.18101196097588948\n",
      "  (0, 414)\t0.2585302763616241\n",
      "  (0, 50)\t0.18101196097588948\n",
      "  (0, 20)\t0.1515512817134298\n",
      "  (0, 18)\t0.07387455917067733\n"
     ]
    }
   ],
   "source": [
    "print(X.shape)\n",
    "print(X[0])"
   ]
  },
  {
   "cell_type": "markdown",
   "id": "6b0a7109",
   "metadata": {},
   "source": [
    "## <3. 분류> : 긍정, 부정 리뷰 분류\n",
    "### [분류 모델링]\n",
    "데이터셋 분리"
   ]
  },
  {
   "cell_type": "code",
   "execution_count": 19,
   "id": "3e7a12c5",
   "metadata": {},
   "outputs": [
    {
     "name": "stdout",
     "output_type": "stream",
     "text": [
      "(142, 1713)\n",
      "(62, 1713)\n"
     ]
    }
   ],
   "source": [
    "from sklearn.model_selection import train_test_split\n",
    "\n",
    "y= df['y']\n",
    "x_train, x_test, y_train, y_test = train_test_split(X, y, test_size = 0.30)\n",
    "print(x_train.shape)\n",
    "print(x_test.shape)"
   ]
  },
  {
   "cell_type": "markdown",
   "id": "dffebf54",
   "metadata": {},
   "source": [
    "----\n",
    "**Logistic Regression**"
   ]
  },
  {
   "cell_type": "code",
   "execution_count": 20,
   "id": "e02cabea",
   "metadata": {},
   "outputs": [
    {
     "name": "stdout",
     "output_type": "stream",
     "text": [
      "accuracy: 0.61\n",
      "Precision: 0.613\n",
      "Recall: 1.000\n",
      "F1: 0.760\n"
     ]
    }
   ],
   "source": [
    "from sklearn.linear_model import LogisticRegression\n",
    "from sklearn.metrics import accuracy_score, precision_score, recall_score, f1_score\n",
    "\n",
    "#로지스틱 회귀 모델 학습\n",
    "lr = LogisticRegression(random_state=0)\n",
    "lr.fit(x_train, y_train)\n",
    "y_pred = lr.predict(x_test)\n",
    "y_pred_probability = lr.predict_proba(x_test)[:,1]\n",
    "\n",
    "#로지스틱 회귀 모델의 성능 평가\n",
    "print(\"accuracy: %.2f\" % accuracy_score(y_test, y_pred))\n",
    "print(\"Precision: %.3f\" % precision_score(y_test, y_pred))\n",
    "print(\"Recall: %.3f\" % recall_score(y_test, y_pred))\n",
    "print(\"F1: %.3f\" % f1_score(y_test, y_pred))\n"
   ]
  },
  {
   "cell_type": "code",
   "execution_count": 21,
   "id": "c41da778",
   "metadata": {},
   "outputs": [
    {
     "name": "stdout",
     "output_type": "stream",
     "text": [
      "[[ 0 24]\n",
      " [ 0 38]]\n"
     ]
    }
   ],
   "source": [
    "from sklearn.metrics import confusion_matrix\n",
    "\n",
    "#Confusion Matrix를 출력\n",
    "confmat = confusion_matrix(y_true=y_test, y_pred=y_pred)\n",
    "print(confmat)"
   ]
  },
  {
   "cell_type": "code",
   "execution_count": 26,
   "id": "93467cb7",
   "metadata": {},
   "outputs": [
    {
     "name": "stdout",
     "output_type": "stream",
     "text": [
      "AUC : 0.806 \n"
     ]
    },
    {
     "data": {
      "text/plain": [
       "<matplotlib.legend.Legend at 0x2e7d4ed1430>"
      ]
     },
     "execution_count": 26,
     "metadata": {},
     "output_type": "execute_result"
    },
    {
     "data": {
      "image/png": "[encoded data removed]",
      "text/plain": [
       "<Figure size 720x576 with 1 Axes>"
      ]
     },
     "metadata": {
      "needs_background": "light"
     },
     "output_type": "display_data"
    }
   ],
   "source": [
    "from sklearn.metrics import roc_curve, roc_auc_score\n",
    "\n",
    "#AUC를 계산 \n",
    "false_positive_rate, true_positive_rate, thresholds = roc_curve(y_test, y_pred_probability)\n",
    "roc_auc = roc_auc_score(y_test, y_pred_probability)\n",
    "print(\"AUC : %.3f \" % roc_auc)\n",
    "\n",
    "#ROC curve 그래프 출력\n",
    "plt.rcParams['figure.figsize'] = [10,8]\n",
    "plt.plot(false_positive_rate, true_positive_rate, label='ROC curve (area = %0.3f)'% roc_auc,\n",
    "        color = 'green', linewidth=4.0)\n",
    "plt.plot([0,1], [0,1], 'k--')\n",
    "plt.xlim([0.0, 1.0])\n",
    "plt.ylim([0.0, 1.0])\n",
    "plt.xlabel('False Positive Rate')\n",
    "plt.ylabel('True Positive Rate')\n",
    "plt.title('ROC curve of Logistic regression')\n",
    "plt.legend(loc=\"lower right\")"
   ]
  },
  {
   "cell_type": "markdown",
   "id": "e8e1e267",
   "metadata": {},
   "source": [
    "---\n",
    "## <4. 활용> : 중요 키워드 분석\n",
    "### [회귀 모델의 피처 영향력 추출]"
   ]
  },
  {
   "cell_type": "code",
   "execution_count": 27,
   "id": "2d087525",
   "metadata": {},
   "outputs": [
    {
     "data": {
      "text/plain": [
       "<BarContainer object of 1713 artists>"
      ]
     },
     "execution_count": 27,
     "metadata": {},
     "output_type": "execute_result"
    },
    {
     "data": {
      "image/png": "[encoded data removed]",
      "text/plain": [
       "<Figure size 720x576 with 1 Axes>"
      ]
     },
     "metadata": {
      "needs_background": "light"
     },
     "output_type": "display_data"
    }
   ],
   "source": [
    "# 학습한 회귀 모델의 계수를 출력\n",
    "plt.rcParams['figure.figsize'] = [10, 8]\n",
    "plt.bar(range(len(lr.coef_[0])), lr.coef_[0])"
   ]
  },
  {
   "cell_type": "code",
   "execution_count": 28,
   "id": "3a04fd02",
   "metadata": {},
   "outputs": [
    {
     "name": "stdout",
     "output_type": "stream",
     "text": [
      "[(0.9244011216276589, 555), (0.8384360770852016, 386), (0.8066612954012852, 1065), (0.7787053981444888, 1376), (0.6875717170005636, 292)]\n",
      "[(-0.4138207233811742, 1666), (-0.41924419639541893, 863), (-0.42009695070613046, 624), (-0.445331700668602, 154), (-0.4686709626859189, 182)]\n"
     ]
    }
   ],
   "source": [
    "print(sorted(((value, index) for index, value in enumerate(lr.coef_[0])), reverse=True)[:5])\n",
    "print(sorted(((value, index) for index, value in enumerate(lr.coef_[0])), reverse=True)[-5:])"
   ]
  },
  {
   "cell_type": "markdown",
   "id": "5185a718",
   "metadata": {},
   "source": [
    "### [ 중요 피처의 형태소]"
   ]
  },
  {
   "cell_type": "code",
   "execution_count": 29,
   "id": "0919f6b8",
   "metadata": {},
   "outputs": [],
   "source": [
    "#회귀 모델의 계수를 높은 순으로 정렬\n",
    "coef_pos_index = sorted(((value, index) for index, value in enumerate(lr.coef_[0])), reverse=True)"
   ]
  },
  {
   "cell_type": "code",
   "execution_count": 32,
   "id": "77660b1d",
   "metadata": {},
   "outputs": [
    {
     "name": "stdout",
     "output_type": "stream",
     "text": [
      "{423: '드디어/Adverb', 583: '먹어/Verb', 720: '본/Verb', 414: '두/Determiner', 847: '세르/Noun', 1560: '테이블/N..\n"
     ]
    }
   ],
   "source": [
    "# 회귀 모델의 계수를 index_vectorizer에 맵핑하여, 어떤 형태소인지 출력할 수 있게 만듬\n",
    "invert_index_vectorizer = {v: k for k, v in index_vectorizer.vocabulary_.items()}\n",
    "\n",
    "#계수가 높은 순으로 피처에 형태소를 맵핑한 결과를 출력/ 계수가 높은 피처는 리뷰에 긍정적인 영향을 주는 형태소임\n",
    "print(str(invert_index_vectorizer)[:100]+'..')"
   ]
  },
  {
   "cell_type": "code",
   "execution_count": 34,
   "id": "3a877dc0",
   "metadata": {},
   "outputs": [
    {
     "name": "stdout",
     "output_type": "stream",
     "text": [
      "맛있어요/Adjective 0.9244011216276589\n",
      "도/Josa 0.8384360770852016\n",
      "에그타르트/Noun 0.8066612954012852\n",
      "좋아요/Adjective 0.7787053981444888\n",
      "너무/Adverb 0.6875717170005636\n",
      "님/Suffix 0.550716664042156\n",
      "커피/Noun 0.5468958637113849\n",
      "진짜/Noun 0.5461952922378718\n",
      "사장/Noun 0.5186048051370435\n",
      "분위기/Noun 0.4485258208223546\n",
      "맛있네요/Adjective 0.3953650543351367\n",
      "맛있고/Adjective 0.38755126865936645\n",
      "샌드위치/Noun 0.3697515028543354\n",
      "넓고/Adjective 0.3590068432482834\n",
      "친절하시네요/Adjective 0.3544287995478899\n",
      "카페/Noun 0.35215782910407717\n",
      "케이크/Noun 0.33516795623762896\n",
      "티/Noun 0.33153498538293197\n",
      "좋고/Adjective 0.3256669256087743\n",
      "맛있음/Adjective 0.286745623196541\n"
     ]
    }
   ],
   "source": [
    "# 상위 20개의 긍정 형태소 출력\n",
    "for coef in coef_pos_index[:20]:\n",
    "    print(invert_index_vectorizer[coef[1]],coef[0])"
   ]
  },
  {
   "cell_type": "code",
   "execution_count": 37,
   "id": "77d473fa",
   "metadata": {
    "scrolled": true
   },
   "outputs": [
    {
     "name": "stdout",
     "output_type": "stream",
     "text": [
      "우유/Noun -0.3126111058361142\n",
      "편하고/Adjective -0.3152813418717327\n",
      "않음/Verb -0.31541670872876193\n",
      "불친절/Noun -0.32621428531132646\n",
      "여자/Noun -0.3271903112330773\n",
      "은/Josa -0.3322113909345883\n",
      "움/Noun -0.33775819413474856\n",
      "맛/Noun -0.3422978149212445\n",
      "힘들어요/Adjective -0.3487951181712731\n",
      "기다리기/Verb -0.3487951181712731\n",
      "뷰/Noun -0.36392541190825556\n",
      "않은/Verb -0.38610363954513705\n",
      "좋아용/Adjective -0.39618558295717454\n",
      "알바/Noun -0.3980582607175567\n",
      "말/Noun -0.40376289848877644\n",
      "함/Noun -0.4138207233811742\n",
      "손님/Noun -0.41924419639541893\n",
      "무난/Noun -0.42009695070613046\n",
      "괜찮아요/Adjective -0.445331700668602\n",
      "그냥/Noun -0.4686709626859189\n"
     ]
    }
   ],
   "source": [
    "# 상위 20개의 부정 형태소 출력\n",
    "for coef in coef_pos_index[-20:]:\n",
    "    print(invert_index_vectorizer[coef[1]], coef[0])"
   ]
  },
  {
   "cell_type": "markdown",
   "id": "1c669109",
   "metadata": {},
   "source": [
    "### [품사별 형태소 추출]"
   ]
  },
  {
   "cell_type": "code",
   "execution_count": 41,
   "id": "8c19867a",
   "metadata": {},
   "outputs": [],
   "source": [
    "# 명사, 동사, 형용사 추출\n",
    "noun_list = []\n",
    "verb_list = []\n",
    "adj_list = []\n",
    "\n",
    "for coef in coef_pos_index[:100]:\n",
    "    pos_category = invert_index_vectorizer[coef[1]].split(\"/\")[1]\n",
    "    if pos_category == \"Noun\":\n",
    "        noun_list.append((invert_index_vectorizer[coef[1]], coef[0]))\n",
    "    elif pos_category == \"Verb\":\n",
    "        verb_list.append((invert_index_vectorizer[coef[1]], coef[0]))\n",
    "    elif pos_category == \"Adjective\":\n",
    "        adj_list.append((invert_index_vectorizer[coef[1]], coef[0]))\n"
   ]
  },
  {
   "cell_type": "code",
   "execution_count": 44,
   "id": "97d12ed4",
   "metadata": {},
   "outputs": [
    {
     "data": {
      "text/plain": [
       "[('에그타르트/Noun', 0.8066612954012852),\n",
       " ('커피/Noun', 0.5468958637113849),\n",
       " ('진짜/Noun', 0.5461952922378718),\n",
       " ('사장/Noun', 0.5186048051370435),\n",
       " ('분위기/Noun', 0.4485258208223546),\n",
       " ('샌드위치/Noun', 0.3697515028543354),\n",
       " ('카페/Noun', 0.35215782910407717),\n",
       " ('케이크/Noun', 0.33516795623762896),\n",
       " ('티/Noun', 0.33153498538293197),\n",
       " ('주문/Noun', 0.26060069897705596),\n",
       " ('잔/Noun', 0.2575631743815958),\n",
       " ('존맛/Noun', 0.24537917643668888),\n",
       " ('동네/Noun', 0.2310009427678896),\n",
       " ('재료/Noun', 0.21745597830648647),\n",
       " ('추천/Noun', 0.21614035452033625),\n",
       " ('맛집/Noun', 0.2154373199772001),\n",
       " ('라떼/Noun', 0.21014383506362447),\n",
       " ('항상/Noun', 0.2099772898377996),\n",
       " ('굿/Noun', 0.20690468706982304),\n",
       " ('좀/Noun', 0.20659801314596932)]"
      ]
     },
     "execution_count": 44,
     "metadata": {},
     "output_type": "execute_result"
    }
   ],
   "source": [
    "#상위 20개의 명사 출력\n",
    "noun_list[:20]"
   ]
  },
  {
   "cell_type": "code",
   "execution_count": 45,
   "id": "14c72f28",
   "metadata": {},
   "outputs": [
    {
     "data": {
      "text/plain": [
       "[('넘/Verb', 0.2436176351478929),\n",
       " ('드세요/Verb', 0.192466746980243),\n",
       " ('커요/Verb', 0.19096301390743076),\n",
       " ('빼면/Verb', 0.17648689107392357),\n",
       " ('푸/Verb', 0.15884914015281015),\n",
       " ('먹고/Verb', 0.15788701699809934),\n",
       " ('생각날/Verb', 0.14418989581069347),\n",
       " ('가는/Verb', 0.14418989581069347),\n",
       " ('마셔/Verb', 0.14080924204013073)]"
      ]
     },
     "execution_count": 45,
     "metadata": {},
     "output_type": "execute_result"
    }
   ],
   "source": [
    "#상위 20개의 동사 출력\n",
    "verb_list[:20]"
   ]
  },
  {
   "cell_type": "code",
   "execution_count": 46,
   "id": "4f677f69",
   "metadata": {},
   "outputs": [
    {
     "data": {
      "text/plain": [
       "[('맛있어요/Adjective', 0.9244011216276589),\n",
       " ('좋아요/Adjective', 0.7787053981444888),\n",
       " ('맛있네요/Adjective', 0.3953650543351367),\n",
       " ('맛있고/Adjective', 0.38755126865936645),\n",
       " ('넓고/Adjective', 0.3590068432482834),\n",
       " ('친절하시네요/Adjective', 0.3544287995478899),\n",
       " ('좋고/Adjective', 0.3256669256087743),\n",
       " ('맛있음/Adjective', 0.286745623196541),\n",
       " ('좋은/Adjective', 0.28068513179952115),\n",
       " ('굳/Adjective', 0.2717479323613774),\n",
       " ('예뻐요/Adjective', 0.2587863137063215),\n",
       " ('친절해요/Adjective', 0.25644660965141364),\n",
       " ('많아요/Adjective', 0.18434669896829925),\n",
       " ('만족합니다/Adjective', 0.17762586525242843),\n",
       " ('귀여운/Adjective', 0.17382978074293415),\n",
       " ('가까워서/Adjective', 0.17338700000579946),\n",
       " ('작긴한데/Adjective', 0.17203822821460105),\n",
       " ('괜찮던데요/Adjective', 0.17203822821460105),\n",
       " ('예쁜/Adjective', 0.17143198558635683),\n",
       " ('좋네요/Adjective', 0.16643991165986063)]"
      ]
     },
     "execution_count": 46,
     "metadata": {},
     "output_type": "execute_result"
    }
   ],
   "source": [
    "#상위 20개의 형용사 출력\n",
    "adj_list[:20]"
   ]
  },
  {
   "cell_type": "markdown",
   "id": "e422d117",
   "metadata": {},
   "source": [
    "### [참고 자료]"
   ]
  },
  {
   "cell_type": "markdown",
   "id": "229aef5e",
   "metadata": {},
   "source": [
    "- https://github.com/yoonkt200/python-data-analysis\n",
    "- <이것이 데이터 분석이다 - 파이썬편, 한빛미디어>\n"
   ]
  }
 ],
 "metadata": {
  "kernelspec": {
   "display_name": "Python 3",
   "language": "python",
   "name": "python3"
  },
  "language_info": {
   "codemirror_mode": {
    "name": "ipython",
    "version": 3
   },
   "file_extension": ".py",
   "mimetype": "text/x-python",
   "name": "python",
   "nbconvert_exporter": "python",
   "pygments_lexer": "ipython3",
   "version": "3.8.8"
  }
 },
 "nbformat": 4,
 "nbformat_minor": 5
}
